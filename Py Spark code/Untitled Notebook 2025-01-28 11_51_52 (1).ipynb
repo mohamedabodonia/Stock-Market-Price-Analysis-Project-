{
 "cells": [
  {
   "cell_type": "code",
   "execution_count": 0,
   "metadata": {
    "application/vnd.databricks.v1+cell": {
     "cellMetadata": {
      "byteLimit": 2048000,
      "rowLimit": 10000
     },
     "inputWidgets": {},
     "nuid": "b03e5ef2-4637-44fa-b84f-d51642e245f8",
     "showTitle": false,
     "tableResultSettingsMap": {},
     "title": ""
    }
   },
   "outputs": [
    {
     "output_type": "execute_result",
     "data": {
      "text/html": [
       "\n",
       "            <div>\n",
       "                <p><b>SparkSession - hive</b></p>\n",
       "                \n",
       "        <div>\n",
       "            <p><b>SparkContext</b></p>\n",
       "\n",
       "            <p><a href=\"/?o=3256791470320037#setting/sparkui/0124-190421-bc0vg730/driver-7276952482648278000\">Spark UI</a></p>\n",
       "\n",
       "            <dl>\n",
       "              <dt>Version</dt>\n",
       "                <dd><code>v3.5.2</code></dd>\n",
       "              <dt>Master</dt>\n",
       "                <dd><code>local[*, 4]</code></dd>\n",
       "              <dt>AppName</dt>\n",
       "                <dd><code>Databricks Shell</code></dd>\n",
       "            </dl>\n",
       "        </div>\n",
       "        \n",
       "            </div>\n",
       "        "
      ],
      "text/plain": [
       "<pyspark.sql.session.SparkSession at 0x7f7ab035a5a0>"
      ]
     },
     "execution_count": 1,
     "metadata": {},
     "output_type": "execute_result"
    }
   ],
   "source": [
    "spark"
   ]
  },
  {
   "cell_type": "code",
   "execution_count": 0,
   "metadata": {
    "application/vnd.databricks.v1+cell": {
     "cellMetadata": {
      "byteLimit": 2048000,
      "rowLimit": 10000
     },
     "inputWidgets": {},
     "nuid": "9de263ee-8622-4c0c-8ddb-97a170b2ed5c",
     "showTitle": true,
     "tableResultSettingsMap": {},
     "title": "Create Spark Session"
    }
   },
   "outputs": [],
   "source": [
    "from pyspark.sql import SparkSession\n",
    " #create spark session\n",
    "spark = SparkSession.builder.appName(\"Stock Analysis\").getOrCreate()"
   ]
  },
  {
   "cell_type": "code",
   "execution_count": 0,
   "metadata": {
    "application/vnd.databricks.v1+cell": {
     "cellMetadata": {
      "byteLimit": 2048000,
      "rowLimit": 10000
     },
     "inputWidgets": {},
     "nuid": "baebdf96-d4cf-47b0-98b7-19eb1fcf0f6b",
     "showTitle": false,
     "tableResultSettingsMap": {},
     "title": ""
    }
   },
   "outputs": [
    {
     "output_type": "execute_result",
     "data": {
      "text/html": [
       "\n",
       "            <div>\n",
       "                <p><b>SparkSession - hive</b></p>\n",
       "                \n",
       "        <div>\n",
       "            <p><b>SparkContext</b></p>\n",
       "\n",
       "            <p><a href=\"/?o=3256791470320037#setting/sparkui/0124-190421-bc0vg730/driver-7276952482648278000\">Spark UI</a></p>\n",
       "\n",
       "            <dl>\n",
       "              <dt>Version</dt>\n",
       "                <dd><code>v3.5.2</code></dd>\n",
       "              <dt>Master</dt>\n",
       "                <dd><code>local[*, 4]</code></dd>\n",
       "              <dt>AppName</dt>\n",
       "                <dd><code>Databricks Shell</code></dd>\n",
       "            </dl>\n",
       "        </div>\n",
       "        \n",
       "            </div>\n",
       "        "
      ],
      "text/plain": [
       "<pyspark.sql.session.SparkSession at 0x7f7ab035a5a0>"
      ]
     },
     "execution_count": 195,
     "metadata": {},
     "output_type": "execute_result"
    }
   ],
   "source": [
    "spark"
   ]
  },
  {
   "cell_type": "code",
   "execution_count": 0,
   "metadata": {
    "application/vnd.databricks.v1+cell": {
     "cellMetadata": {
      "byteLimit": 2048000,
      "rowLimit": 10000
     },
     "inputWidgets": {},
     "nuid": "cd222fc1-a60f-4990-826b-d2b39c3f7796",
     "showTitle": true,
     "tableResultSettingsMap": {},
     "title": "Read CSV File of Stock Data"
    }
   },
   "outputs": [],
   "source": [
    "stock=spark.read.csv(\"/FileStore/tables/ALL_STOCKS.csv\",header=True,inferSchema=True)"
   ]
  },
  {
   "cell_type": "code",
   "execution_count": 0,
   "metadata": {
    "application/vnd.databricks.v1+cell": {
     "cellMetadata": {
      "byteLimit": 2048000,
      "rowLimit": 10000
     },
     "inputWidgets": {},
     "nuid": "fb221b2b-4d6d-4427-8ef1-3b082bfaff74",
     "showTitle": false,
     "tableResultSettingsMap": {},
     "title": ""
    }
   },
   "outputs": [
    {
     "output_type": "stream",
     "name": "stdout",
     "output_type": "stream",
     "text": [
      "root\n |-- Ticker: string (nullable = true)\n |-- Date: date (nullable = true)\n |-- Close/Last: string (nullable = true)\n |-- Volume: integer (nullable = true)\n |-- Open: string (nullable = true)\n |-- High: string (nullable = true)\n |-- Low: string (nullable = true)\n\n"
     ]
    }
   ],
   "source": [
    "# show the scema of data \n",
    "stock.printSchema()"
   ]
  },
  {
   "cell_type": "code",
   "execution_count": 0,
   "metadata": {
    "application/vnd.databricks.v1+cell": {
     "cellMetadata": {
      "byteLimit": 2048000,
      "rowLimit": 10000
     },
     "inputWidgets": {},
     "nuid": "d68ae215-ebf3-439d-99de-4d83f9b05ba1",
     "showTitle": false,
     "tableResultSettingsMap": {},
     "title": ""
    }
   },
   "outputs": [
    {
     "output_type": "stream",
     "name": "stdout",
     "output_type": "stream",
     "text": [
      "+------+----------+----------+--------+--------+--------+--------+\n|Ticker|      Date|Close/Last|  Volume|    Open|    High|     Low|\n+------+----------+----------+--------+--------+--------+--------+\n|  AMZN|2023-05-31|  $120.58 |72800790|$121.45 |$122.04 |$119.17 |\n|  AMZN|2023-05-30|  $121.66 |64314810|$122.37 |$122.92 |$119.86 |\n|  AMZN|2023-05-26|  $120.11 |96779890|$116.04 |$121.50 |$116.02 |\n|  AMZN|2023-05-25|  $115.00 |66496680|$116.63 |$116.87 |$114.31 |\n|  AMZN|2023-05-24|  $116.75 |63487940|$115.35 |$117.34 |$115.02 |\n+------+----------+----------+--------+--------+--------+--------+\nonly showing top 5 rows\n"
     ]
    }
   ],
   "source": [
    "stock.show(5)"
   ]
  },
  {
   "cell_type": "code",
   "execution_count": 0,
   "metadata": {
    "application/vnd.databricks.v1+cell": {
     "cellMetadata": {
      "byteLimit": 2048000,
      "rowLimit": 10000
     },
     "inputWidgets": {},
     "nuid": "c5ca0c21-d772-478e-b0af-f8eb288af975",
     "showTitle": false,
     "tableResultSettingsMap": {},
     "title": ""
    }
   },
   "outputs": [
    {
     "output_type": "stream",
     "name": "stdout",
     "output_type": "stream",
     "text": [
      "+------+\n|Ticker|\n+------+\n|  AMZN|\n|  AMZN|\n|  AMZN|\n|  AMZN|\n|  AMZN|\n+------+\nonly showing top 5 rows\n"
     ]
    }
   ],
   "source": [
    "stock.select(\"Ticker\").show(5)"
   ]
  },
  {
   "cell_type": "code",
   "execution_count": 0,
   "metadata": {
    "application/vnd.databricks.v1+cell": {
     "cellMetadata": {
      "byteLimit": 2048000,
      "rowLimit": 10000
     },
     "inputWidgets": {},
     "nuid": "8c30efba-4fdb-40e7-8f21-99a316396f0f",
     "showTitle": true,
     "tableResultSettingsMap": {},
     "title": "Filter with specific column"
    }
   },
   "outputs": [
    {
     "output_type": "stream",
     "name": "stdout",
     "output_type": "stream",
     "text": [
      "+------+----------+----------+--------+--------+--------+--------+\n|Ticker|      Date|Close/Last|  Volume|    Open|    High|     Low|\n+------+----------+----------+--------+--------+--------+--------+\n|  MSFT|2023-05-31|  $328.39 |45950550|$332.29 |$335.94 |$327.33 |\n|  MSFT|2023-05-30|  $331.21 |29503070|$335.23 |$335.74 |$330.52 |\n|  MSFT|2023-05-26|  $332.89 |36630630|$324.02 |$333.40 |$323.88 |\n|  MSFT|2023-05-25|  $325.92 |43301740|$323.24 |$326.90 |$320.00 |\n|  MSFT|2023-05-24|  $313.85 |23384890|$314.73 |$316.50 |$312.61 |\n+------+----------+----------+--------+--------+--------+--------+\nonly showing top 5 rows\n"
     ]
    }
   ],
   "source": [
    "\n",
    "stock.filter(stock.Ticker == \"MSFT\").show(5)"
   ]
  },
  {
   "cell_type": "code",
   "execution_count": 0,
   "metadata": {
    "application/vnd.databricks.v1+cell": {
     "cellMetadata": {
      "byteLimit": 2048000,
      "rowLimit": 10000
     },
     "inputWidgets": {},
     "nuid": "c311eb83-d67e-450e-924e-4d21518601a4",
     "showTitle": true,
     "tableResultSettingsMap": {},
     "title": "filter data with two column"
    }
   },
   "outputs": [
    {
     "output_type": "stream",
     "name": "stdout",
     "output_type": "stream",
     "text": [
      "+------+----------+----------+--------+--------+--------+--------+\n|Ticker|      Date|Close/Last|  Volume|    Open|    High|     Low|\n+------+----------+----------+--------+--------+--------+--------+\n|  AMZN|2023-05-31|  $120.58 |72800790|$121.45 |$122.04 |$119.17 |\n+------+----------+----------+--------+--------+--------+--------+\n\n"
     ]
    }
   ],
   "source": [
    "stock.filter((stock.Ticker ==\"AMZN\")&(stock.Date==\"2023-05-31\")).show()"
   ]
  },
  {
   "cell_type": "code",
   "execution_count": 0,
   "metadata": {
    "application/vnd.databricks.v1+cell": {
     "cellMetadata": {
      "byteLimit": 2048000,
      "rowLimit": 10000
     },
     "inputWidgets": {},
     "nuid": "90e5c306-e903-4794-af14-b8e1e89b6d34",
     "showTitle": true,
     "tableResultSettingsMap": {},
     "title": "Filter with \"ISIN\" Function"
    }
   },
   "outputs": [
    {
     "output_type": "stream",
     "name": "stdout",
     "output_type": "stream",
     "text": [
      "+------+----------+----------+--------+--------+--------+--------+\n|Ticker|      Date|Close/Last|  Volume|    Open|    High|     Low|\n+------+----------+----------+--------+--------+--------+--------+\n|  AMZN|2023-05-31|  $120.58 |72800790|$121.45 |$122.04 |$119.17 |\n|  MSFT|2023-05-31|  $328.39 |45950550|$332.29 |$335.94 |$327.33 |\n+------+----------+----------+--------+--------+--------+--------+\n\n"
     ]
    }
   ],
   "source": [
    "stock.filter((stock.Ticker.isin([\"AMZN\",\"MSFT\"]))&(stock.Date==\"2023-05-31\")).show()"
   ]
  },
  {
   "cell_type": "code",
   "execution_count": 0,
   "metadata": {
    "application/vnd.databricks.v1+cell": {
     "cellMetadata": {
      "byteLimit": 2048000,
      "rowLimit": 10000
     },
     "inputWidgets": {},
     "nuid": "3041afd2-60fb-4c09-bd31-5d476dc7f3e8",
     "showTitle": false,
     "tableResultSettingsMap": {},
     "title": ""
    }
   },
   "outputs": [
    {
     "output_type": "stream",
     "name": "stdout",
     "output_type": "stream",
     "text": [
      "root\n |-- Ticker: string (nullable = true)\n |-- Date: date (nullable = true)\n |-- Close/Last: string (nullable = true)\n |-- Volume: integer (nullable = true)\n |-- Open: string (nullable = true)\n |-- High: string (nullable = true)\n |-- Low: string (nullable = true)\n\n"
     ]
    }
   ],
   "source": [
    "stock.printSchema()"
   ]
  },
  {
   "cell_type": "code",
   "execution_count": 0,
   "metadata": {
    "application/vnd.databricks.v1+cell": {
     "cellMetadata": {
      "byteLimit": 2048000,
      "rowLimit": 10000
     },
     "inputWidgets": {},
     "nuid": "b530f7e1-180d-4dbc-881f-64837887deae",
     "showTitle": false,
     "tableResultSettingsMap": {},
     "title": ""
    }
   },
   "outputs": [],
   "source": [
    "from pyspark.sql.functions import udf\n",
    "from pyspark.sql.types import IntegerType,DateType\n",
    "from datetime import datetime"
   ]
  },
  {
   "cell_type": "code",
   "execution_count": 0,
   "metadata": {
    "application/vnd.databricks.v1+cell": {
     "cellMetadata": {
      "byteLimit": 2048000,
      "rowLimit": 10000
     },
     "inputWidgets": {},
     "nuid": "3b19125d-c460-4878-86f2-deb00f6c28dd",
     "showTitle": true,
     "tableResultSettingsMap": {},
     "title": "If the data column is String Type and i want to convert it to date type"
    }
   },
   "outputs": [],
   "source": [
    "# Create a user define function to conver date from string to datetype\n",
    "from pyspark.sql.functions import udf\n",
    "from pyspark.sql.types import IntegerType,DateType\n",
    "dateparser=udf(lambda date:datetime.strptime(date,\"%m/%d/%Y\"),DateType())\n",
    "stock.withColumn(\"Date\",dateparser(\"Date\")).show(5)"
   ]
  },
  {
   "cell_type": "code",
   "execution_count": 0,
   "metadata": {
    "application/vnd.databricks.v1+cell": {
     "cellMetadata": {
      "byteLimit": 2048000,
      "rowLimit": 10000
     },
     "inputWidgets": {},
     "nuid": "9359416c-651b-40b1-8a60-e186ade698b3",
     "showTitle": true,
     "tableResultSettingsMap": {},
     "title": "Implement function to delete $ and convert column type to Float"
    }
   },
   "outputs": [
    {
     "output_type": "stream",
     "name": "stdout",
     "output_type": "stream",
     "text": [
      "100.0\n"
     ]
    }
   ],
   "source": [
    "def numparser(value):\n",
    "  if isinstance(value,str):\n",
    "    return float(value.strip(\"$\"))\n",
    "  elif isinstance(value,int) or isinstance(value,float):\n",
    "    return value\n",
    "  else:\n",
    "      return None\n",
    "    \n",
    "print(numparser(\"100$\"))"
   ]
  },
  {
   "cell_type": "code",
   "execution_count": 0,
   "metadata": {
    "application/vnd.databricks.v1+cell": {
     "cellMetadata": {
      "byteLimit": 2048000,
      "rowLimit": 10000
     },
     "inputWidgets": {},
     "nuid": "4407dc0e-51e5-4786-985b-cacc8f44affd",
     "showTitle": false,
     "tableResultSettingsMap": {},
     "title": ""
    }
   },
   "outputs": [],
   "source": [
    "from pyspark.sql.functions import udf\n",
    "from pyspark.sql.types import FloatType\n",
    "parserfloat = udf(numparser,FloatType())"
   ]
  },
  {
   "cell_type": "code",
   "execution_count": 0,
   "metadata": {
    "application/vnd.databricks.v1+cell": {
     "cellMetadata": {
      "byteLimit": 2048000,
      "rowLimit": 10000
     },
     "inputWidgets": {},
     "nuid": "6fe10981-5004-45d1-8395-82cf93b98c24",
     "showTitle": true,
     "tableResultSettingsMap": {},
     "title": "USe Withcolumn function to convert type of (open,close,high,low)"
    }
   },
   "outputs": [],
   "source": [
    "stock= stock.withColumn(\"Open\",parserfloat(\"Open\")).withColumn(\"Close\",parserfloat(\"Close/Last\")).withColumn(\"High\",parserfloat(\"High\")).withColumn(\"Low\",parserfloat(\"Low\"))"
   ]
  },
  {
   "cell_type": "code",
   "execution_count": 0,
   "metadata": {
    "application/vnd.databricks.v1+cell": {
     "cellMetadata": {
      "byteLimit": 2048000,
      "rowLimit": 10000
     },
     "inputWidgets": {},
     "nuid": "ef925900-b314-41af-9c14-c47ea723097a",
     "showTitle": false,
     "tableResultSettingsMap": {},
     "title": ""
    }
   },
   "outputs": [
    {
     "output_type": "stream",
     "name": "stdout",
     "output_type": "stream",
     "text": [
      "root\n |-- Ticker: string (nullable = true)\n |-- Date: date (nullable = true)\n |-- Close/Last: string (nullable = true)\n |-- Volume: integer (nullable = true)\n |-- Open: float (nullable = true)\n |-- High: float (nullable = true)\n |-- Low: float (nullable = true)\n |-- Close: float (nullable = true)\n\n"
     ]
    }
   ],
   "source": [
    "stock.printSchema()"
   ]
  },
  {
   "cell_type": "code",
   "execution_count": 0,
   "metadata": {
    "application/vnd.databricks.v1+cell": {
     "cellMetadata": {
      "byteLimit": 2048000,
      "rowLimit": 10000
     },
     "inputWidgets": {},
     "nuid": "aa4dd273-6ea8-4c33-86d8-2c0c8e82fe9f",
     "showTitle": false,
     "tableResultSettingsMap": {},
     "title": ""
    }
   },
   "outputs": [
    {
     "output_type": "stream",
     "name": "stdout",
     "output_type": "stream",
     "text": [
      "+------+----------+----------+--------+------+------+------+------+\n|Ticker|      Date|Close/Last|  Volume|  Open|  High|   Low| Close|\n+------+----------+----------+--------+------+------+------+------+\n|  AMZN|2023-05-31|  $120.58 |72800790|121.45|122.04|119.17|120.58|\n|  AMZN|2023-05-30|  $121.66 |64314810|122.37|122.92|119.86|121.66|\n|  AMZN|2023-05-26|  $120.11 |96779890|116.04| 121.5|116.02|120.11|\n|  AMZN|2023-05-25|  $115.00 |66496680|116.63|116.87|114.31| 115.0|\n|  AMZN|2023-05-24|  $116.75 |63487940|115.35|117.34|115.02|116.75|\n|  AMZN|2023-05-23|  $114.99 |67576260|114.27|117.14|113.78|114.99|\n|  AMZN|2023-05-22|  $115.01 |70741120|116.77|116.77|114.25|115.01|\n|  AMZN|2023-05-19|  $116.25 |55056310|118.16|118.31| 115.7|116.25|\n|  AMZN|2023-05-18|  $118.15 |73174090|116.69| 118.6|116.34|118.15|\n|  AMZN|2023-05-17|  $115.50 |65655180|114.89|115.83|114.22| 115.5|\n|  AMZN|2023-05-16|  $113.40 |71472910|111.05|114.79|111.05| 113.4|\n|  AMZN|2023-05-15|  $111.20 |53011150|111.15|112.29|109.25| 111.2|\n|  AMZN|2023-05-12|  $110.26 |49852670|112.16|112.64|109.32|110.26|\n|  AMZN|2023-05-11|  $112.18 |74924840|111.03|113.28|110.49|112.18|\n|  AMZN|2023-05-10|  $110.19 |78627620| 108.1|110.67|108.05|110.19|\n+------+----------+----------+--------+------+------+------+------+\nonly showing top 15 rows\n"
     ]
    }
   ],
   "source": [
    "stock.show(15)"
   ]
  },
  {
   "cell_type": "code",
   "execution_count": 0,
   "metadata": {
    "application/vnd.databricks.v1+cell": {
     "cellMetadata": {
      "byteLimit": 2048000,
      "rowLimit": 10000
     },
     "inputWidgets": {},
     "nuid": "a0a580c1-0cd4-4e6a-882f-5829b3f204e0",
     "showTitle": true,
     "tableResultSettingsMap": {},
     "title": "IF I want to covert string column to integer"
    }
   },
   "outputs": [],
   "source": [
    "from ast import Lambda\n",
    "from pyspark.sql.types import IntegerType\n",
    "parseint = udf (lambda volume :int(volume),IntegerType())"
   ]
  },
  {
   "cell_type": "code",
   "execution_count": 0,
   "metadata": {
    "application/vnd.databricks.v1+cell": {
     "cellMetadata": {
      "byteLimit": 2048000,
      "rowLimit": 10000
     },
     "inputWidgets": {},
     "nuid": "ef6aac97-6eb5-4ef4-be41-6786c7d51264",
     "showTitle": false,
     "tableResultSettingsMap": {},
     "title": ""
    }
   },
   "outputs": [],
   "source": [
    "#stock=stock.withColumn(\"Volume\",parseint(\"Volume\"))"
   ]
  },
  {
   "cell_type": "code",
   "execution_count": 0,
   "metadata": {
    "application/vnd.databricks.v1+cell": {
     "cellMetadata": {
      "byteLimit": 2048000,
      "rowLimit": 10000
     },
     "inputWidgets": {},
     "nuid": "a0a74f3b-028a-48ae-b0f0-d26f06647083",
     "showTitle": false,
     "tableResultSettingsMap": {},
     "title": ""
    }
   },
   "outputs": [],
   "source": [
    "cleaned_stock=stock.select(\"Ticker\",\"Date\",\"Volume\",\"Open\",\"High\",\"Low\",\"Close\")"
   ]
  },
  {
   "cell_type": "code",
   "execution_count": 0,
   "metadata": {
    "application/vnd.databricks.v1+cell": {
     "cellMetadata": {
      "byteLimit": 2048000,
      "rowLimit": 10000
     },
     "inputWidgets": {},
     "nuid": "8f6382ae-39a5-4780-890b-afe16f9c9b00",
     "showTitle": false,
     "tableResultSettingsMap": {},
     "title": ""
    }
   },
   "outputs": [
    {
     "output_type": "stream",
     "name": "stdout",
     "output_type": "stream",
     "text": [
      "root\n |-- Ticker: string (nullable = true)\n |-- Date: date (nullable = true)\n |-- Volume: integer (nullable = true)\n |-- Open: float (nullable = true)\n |-- High: float (nullable = true)\n |-- Low: float (nullable = true)\n |-- Close: float (nullable = true)\n\n"
     ]
    }
   ],
   "source": [
    "cleaned_stock.printSchema()"
   ]
  },
  {
   "cell_type": "code",
   "execution_count": 0,
   "metadata": {
    "application/vnd.databricks.v1+cell": {
     "cellMetadata": {
      "byteLimit": 2048000,
      "rowLimit": 10000
     },
     "inputWidgets": {},
     "nuid": "cb0ddf56-92c9-4f93-b2e8-31b2d9e87dc0",
     "showTitle": true,
     "tableResultSettingsMap": {},
     "title": "To make summery on data"
    }
   },
   "outputs": [
    {
     "output_type": "stream",
     "name": "stdout",
     "output_type": "stream",
     "text": [
      "+-------+------+--------------------+------------------+------------------+------------------+-----------------+\n|summary|Ticker|              Volume|              Open|              High|               Low|            Close|\n+-------+------+--------------------+------------------+------------------+------------------+-----------------+\n|  count|   520|                 520|               520|               520|               520|              520|\n|   mean|  NULL|4.7142785198076926E7|223.99860747410702|226.48809054448054|221.77086389981784|224.3515191738422|\n| stddev|  NULL|4.4077822319242395E7| 99.61537484399457|100.09992568148351| 99.05107310744967|99.61753783629193|\n|    min|  AAPL|             1938264|             82.24|             82.38|             81.21|            82.25|\n|    max|     V|           210970800|            422.03|            422.58|           418.735|           420.18|\n+-------+------+--------------------+------------------+------------------+------------------+-----------------+\n\n"
     ]
    }
   ],
   "source": [
    "cleaned_stock.describe().show()"
   ]
  },
  {
   "cell_type": "code",
   "execution_count": 0,
   "metadata": {
    "application/vnd.databricks.v1+cell": {
     "cellMetadata": {
      "byteLimit": 2048000,
      "rowLimit": 10000
     },
     "inputWidgets": {},
     "nuid": "4ae05293-94e5-4e73-8fed-fa0ad8f2b6ae",
     "showTitle": false,
     "tableResultSettingsMap": {},
     "title": ""
    }
   },
   "outputs": [
    {
     "output_type": "stream",
     "name": "stdout",
     "output_type": "stream",
     "text": [
      "+------+---------+\n|Ticker|max(Open)|\n+------+---------+\n| BRK-B|    331.0|\n|   TSM|   103.79|\n|  AAPL|   177.33|\n|  META|   265.25|\n|  TSLA|    200.1|\n|     V|    235.0|\n| GOOGL|   125.64|\n|   SPY|   422.03|\n|  AMZN|   122.37|\n|  MSFT|   335.23|\n|  NVDA|   405.95|\n+------+---------+\n\n"
     ]
    }
   ],
   "source": [
    "# Calculate maximum stock Price\n",
    "cleaned_stock.groupBy(\"Ticker\").max(\"Open\").show()"
   ]
  },
  {
   "cell_type": "code",
   "execution_count": 0,
   "metadata": {
    "application/vnd.databricks.v1+cell": {
     "cellMetadata": {
      "byteLimit": 2048000,
      "rowLimit": 10000
     },
     "inputWidgets": {},
     "nuid": "17c083bb-bfa7-44a8-b3d9-dbc4e8aa54da",
     "showTitle": false,
     "tableResultSettingsMap": {},
     "title": ""
    }
   },
   "outputs": [
    {
     "output_type": "stream",
     "name": "stdout",
     "output_type": "stream",
     "text": [
      "+------+--------+\n|Ticker|Max_Open|\n+------+--------+\n| BRK-B|   331.0|\n|   TSM|  103.79|\n|  AAPL|  177.33|\n|  META|  265.25|\n|  TSLA|   200.1|\n|     V|   235.0|\n| GOOGL|  125.64|\n|   SPY|  422.03|\n|  AMZN|  122.37|\n|  MSFT|  335.23|\n|  NVDA|  405.95|\n+------+--------+\n\n"
     ]
    }
   ],
   "source": [
    "cleaned_stock.groupBy(\"Ticker\").max(\"Open\").withColumnRenamed(\"max(Open)\",\"Max_Open\").show()"
   ]
  },
  {
   "cell_type": "code",
   "execution_count": 0,
   "metadata": {
    "application/vnd.databricks.v1+cell": {
     "cellMetadata": {
      "byteLimit": 2048000,
      "rowLimit": 10000
     },
     "inputWidgets": {},
     "nuid": "19fb7494-945f-4b9a-a0d8-58bbdd897b15",
     "showTitle": false,
     "tableResultSettingsMap": {},
     "title": ""
    }
   },
   "outputs": [
    {
     "output_type": "stream",
     "name": "stdout",
     "output_type": "stream",
     "text": [
      "+------+----------+--------+------+------+------+------+\n|Ticker|      Date|  Volume|  Open|  High|   Low| Close|\n+------+----------+--------+------+------+------+------+\n|  AMZN|2023-05-31|72800790|121.45|122.04|119.17|120.58|\n|  AMZN|2023-05-30|64314810|122.37|122.92|119.86|121.66|\n|  AMZN|2023-05-26|96779890|116.04| 121.5|116.02|120.11|\n|  AMZN|2023-05-25|66496680|116.63|116.87|114.31| 115.0|\n|  AMZN|2023-05-24|63487940|115.35|117.34|115.02|116.75|\n+------+----------+--------+------+------+------+------+\nonly showing top 5 rows\n"
     ]
    }
   ],
   "source": [
    "cleaned_stock.show(5)"
   ]
  },
  {
   "cell_type": "code",
   "execution_count": 0,
   "metadata": {
    "application/vnd.databricks.v1+cell": {
     "cellMetadata": {
      "byteLimit": 2048000,
      "rowLimit": 10000
     },
     "inputWidgets": {},
     "nuid": "6fbcffc5-aae3-48e8-b39e-a43e3f5fc1a8",
     "showTitle": false,
     "tableResultSettingsMap": {},
     "title": ""
    }
   },
   "outputs": [
    {
     "output_type": "stream",
     "name": "stdout",
     "output_type": "stream",
     "text": [
      "+------+--------+\n|Ticker|MAXSTOCK|\n+------+--------+\n| BRK-B|   331.0|\n|   TSM|  103.79|\n|  AAPL|  177.33|\n|  META|  265.25|\n|  TSLA|   200.1|\n|     V|   235.0|\n| GOOGL|  125.64|\n|   SPY|  422.03|\n|  AMZN|  122.37|\n|  MSFT|  335.23|\n|  NVDA|  405.95|\n+------+--------+\n\n"
     ]
    }
   ],
   "source": [
    "import pyspark.sql.functions as func\n",
    "# maximum value in each stock\n",
    "cleaned_stock.groupBy(\"Ticker\").agg(func.max(\"Open\").alias(\"MAXSTOCK\")).show()"
   ]
  },
  {
   "cell_type": "code",
   "execution_count": 0,
   "metadata": {
    "application/vnd.databricks.v1+cell": {
     "cellMetadata": {
      "byteLimit": 2048000,
      "rowLimit": 10000
     },
     "inputWidgets": {},
     "nuid": "72beaec3-a6a8-400f-bc4b-7b699e9e7e98",
     "showTitle": false,
     "tableResultSettingsMap": {},
     "title": ""
    }
   },
   "outputs": [
    {
     "output_type": "stream",
     "name": "stdout",
     "output_type": "stream",
     "text": [
      "+------+-----------+\n|Ticker|Totalvolume|\n+------+-----------+\n| BRK-B|  117066540|\n|   TSM|  635972087|\n|  AAPL| 1275364570|\n|  META|  959299670|\n|  TSLA| 8343485060|\n|     V|  389076626|\n| GOOGL| 2186269020|\n|   SPY| 5050519830|\n|  AMZN| 1563755070|\n|  MSFT| 1079604640|\n|  NVDA| 2913835190|\n+------+-----------+\n\n"
     ]
    }
   ],
   "source": [
    "# total volume for each stock\n",
    "cleaned_stock.groupBy(\"Ticker\").agg(func.sum(\"Volume\").alias(\"Totalvolume\")).show()"
   ]
  },
  {
   "cell_type": "code",
   "execution_count": 0,
   "metadata": {
    "application/vnd.databricks.v1+cell": {
     "cellMetadata": {
      "byteLimit": 2048000,
      "rowLimit": 10000
     },
     "inputWidgets": {},
     "nuid": "c79f2685-59f9-47b1-843a-1c3c4beca8e0",
     "showTitle": false,
     "tableResultSettingsMap": {},
     "title": ""
    }
   },
   "outputs": [
    {
     "output_type": "stream",
     "name": "stdout",
     "output_type": "stream",
     "text": [
      "+------+--------+-----------+\n|Ticker|MAXSTOCK|Totalvolume|\n+------+--------+-----------+\n| BRK-B|   331.0|  117066540|\n|   TSM|  103.79|  635972087|\n|  AAPL|  177.33| 1275364570|\n|  META|  265.25|  959299670|\n|  TSLA|   200.1| 8343485060|\n|     V|   235.0|  389076626|\n| GOOGL|  125.64| 2186269020|\n|   SPY|  422.03| 5050519830|\n|  AMZN|  122.37| 1563755070|\n|  MSFT|  335.23| 1079604640|\n|  NVDA|  405.95| 2913835190|\n+------+--------+-----------+\n\n"
     ]
    }
   ],
   "source": [
    "# maximum value in each stock and total volume\n",
    "cleaned_stock.groupBy(\"Ticker\").agg(func.max(\"Open\").alias(\"MAXSTOCK\"),func.sum(\"Volume\").alias(\"Totalvolume\")).show()\n"
   ]
  },
  {
   "cell_type": "code",
   "execution_count": 0,
   "metadata": {
    "application/vnd.databricks.v1+cell": {
     "cellMetadata": {
      "byteLimit": 2048000,
      "rowLimit": 10000
     },
     "inputWidgets": {},
     "nuid": "0edcfa01-6e7a-4fc7-8f3d-ad10a99a9d82",
     "showTitle": true,
     "tableResultSettingsMap": {},
     "title": "Add (year, month, day) column to the Cleaned data"
    }
   },
   "outputs": [],
   "source": [
    "cleaned_stock=cleaned_stock.withColumn(\"year\",func.year(\"Date\")).withColumn(\"month\",func.month(\"Date\")).withColumn(\"day\",func.dayofmonth(\"Date\")) "
   ]
  },
  {
   "cell_type": "code",
   "execution_count": 0,
   "metadata": {
    "application/vnd.databricks.v1+cell": {
     "cellMetadata": {
      "byteLimit": 2048000,
      "rowLimit": 10000
     },
     "inputWidgets": {},
     "nuid": "9cc57b66-4684-41a9-85b6-1fd99dc9b44c",
     "showTitle": false,
     "tableResultSettingsMap": {},
     "title": ""
    }
   },
   "outputs": [
    {
     "output_type": "stream",
     "name": "stdout",
     "output_type": "stream",
     "text": [
      "+------+----------+--------+------+------+------+------+----+-----+---+\n|Ticker|      Date|  Volume|  Open|  High|   Low| Close|year|month|day|\n+------+----------+--------+------+------+------+------+----+-----+---+\n|  AMZN|2023-05-31|72800790|121.45|122.04|119.17|120.58|2023|    5| 31|\n|  AMZN|2023-05-30|64314810|122.37|122.92|119.86|121.66|2023|    5| 30|\n|  AMZN|2023-05-26|96779890|116.04| 121.5|116.02|120.11|2023|    5| 26|\n|  AMZN|2023-05-25|66496680|116.63|116.87|114.31| 115.0|2023|    5| 25|\n|  AMZN|2023-05-24|63487940|115.35|117.34|115.02|116.75|2023|    5| 24|\n+------+----------+--------+------+------+------+------+----+-----+---+\nonly showing top 5 rows\n"
     ]
    }
   ],
   "source": [
    "cleaned_stock.show(5)"
   ]
  },
  {
   "cell_type": "code",
   "execution_count": 0,
   "metadata": {
    "application/vnd.databricks.v1+cell": {
     "cellMetadata": {
      "byteLimit": 2048000,
      "rowLimit": 10000
     },
     "inputWidgets": {},
     "nuid": "2c6ba888-2705-45b2-8ac7-e5911192c049",
     "showTitle": false,
     "tableResultSettingsMap": {},
     "title": ""
    }
   },
   "outputs": [
    {
     "output_type": "stream",
     "name": "stdout",
     "output_type": "stream",
     "text": [
      "+------+----+----------+-------+\n|Ticker|year|yearlyhigh|lowyear|\n+------+----+----------+-------+\n| BRK-B|2023|     331.0| 307.85|\n|     V|2023|     235.0| 214.41|\n|   SPY|2023|    422.03| 381.81|\n| GOOGL|2023|    125.64|  90.09|\n|  NVDA|2023|    405.95| 227.52|\n|  META|2023|    265.25| 207.24|\n|  MSFT|2023|    335.23| 279.51|\n|   TSM|2023|    103.79|  82.24|\n|  AMZN|2023|    122.37| 101.47|\n|  TSLA|2023|     200.1| 152.64|\n|  AAPL|2023|    177.33| 164.89|\n+------+----+----------+-------+\n\n"
     ]
    }
   ],
   "source": [
    "#calcualte the maximum and minimum value for each Ticker per YEAR\n",
    "cleaned_stock.groupBy(\"Ticker\",\"year\").agg(func.max(\"Open\").alias(\"yearlyhigh\"),func.min(\"open\").alias(\"lowyear\")).show()"
   ]
  },
  {
   "cell_type": "code",
   "execution_count": 0,
   "metadata": {
    "application/vnd.databricks.v1+cell": {
     "cellMetadata": {
      "byteLimit": 2048000,
      "rowLimit": 10000
     },
     "inputWidgets": {},
     "nuid": "d7ea0d6f-95f1-449f-819f-28ed62b2365d",
     "showTitle": false,
     "tableResultSettingsMap": {},
     "title": ""
    }
   },
   "outputs": [
    {
     "output_type": "stream",
     "name": "stdout",
     "output_type": "stream",
     "text": [
      "+------+----+-----+------+--------+\n|Ticker|year|month| month|lowmonth|\n+------+----+-----+------+--------+\n|  TSLA|2023|    4|199.91|  152.64|\n|  META|2023|    4|239.89|  208.84|\n|  NVDA|2023|    5|405.95|  276.51|\n|  NVDA|2023|    3|272.29|  227.52|\n|   TSM|2023|    5|103.79|   82.62|\n+------+----+-----+------+--------+\nonly showing top 5 rows\n"
     ]
    }
   ],
   "source": [
    "#calcualte the maximum and minimum value for each Ticker per YEAR\n",
    "cleaned_stock.groupBy(\"Ticker\",\"year\",\"month\").agg(func.max(\"Open\").alias(\"month\"),func.min(\"open\").alias(\"lowmonth\")).show(5)"
   ]
  },
  {
   "cell_type": "code",
   "execution_count": 0,
   "metadata": {
    "application/vnd.databricks.v1+cell": {
     "cellMetadata": {
      "byteLimit": 2048000,
      "rowLimit": 10000
     },
     "inputWidgets": {},
     "nuid": "80cc444b-dfd7-4eef-b2f2-c4083e44209b",
     "showTitle": false,
     "tableResultSettingsMap": {},
     "title": ""
    }
   },
   "outputs": [
    {
     "output_type": "stream",
     "name": "stdout",
     "output_type": "stream",
     "text": [
      "+------+----+-----+---------+--------+\n|Ticker|year|month|highmonth|lowmonth|\n+------+----+-----+---------+--------+\n|  TSLA|2023|    4|   199.91|  152.64|\n|  META|2023|    4|   239.89|  208.84|\n|  NVDA|2023|    5|   405.95|  276.51|\n|  NVDA|2023|    3|   272.29|  227.52|\n|   TSM|2023|    5|   103.79|   82.62|\n+------+----+-----+---------+--------+\nonly showing top 5 rows\n"
     ]
    }
   ],
   "source": [
    "monthlyanalysis=cleaned_stock.groupBy(\"Ticker\",\"year\",\"month\").agg(func.max(\"Open\").alias(\"highmonth\"),func.min(\"open\").alias(\"lowmonth\"))\n",
    "monthlyanalysis.show(5)"
   ]
  },
  {
   "cell_type": "code",
   "execution_count": 0,
   "metadata": {
    "application/vnd.databricks.v1+cell": {
     "cellMetadata": {
      "byteLimit": 2048000,
      "rowLimit": 10000
     },
     "inputWidgets": {},
     "nuid": "4282c282-002c-49b6-83dc-3097995030fe",
     "showTitle": true,
     "tableResultSettingsMap": {},
     "title": "Join Cleaned stock with yearly Analysis"
    }
   },
   "outputs": [],
   "source": [
    "historicalAnalysis=cleaned_stock.join(monthlyanalysis,(cleaned_stock.year==monthlyanalysis.year) &(cleaned_stock.month==monthlyanalysis.month)& (cleaned_stock.Ticker==monthlyanalysis.Ticker),how=\"inner\").drop(monthlyanalysis.year,monthlyanalysis.month,monthlyanalysis.Ticker )"
   ]
  },
  {
   "cell_type": "code",
   "execution_count": 0,
   "metadata": {
    "application/vnd.databricks.v1+cell": {
     "cellMetadata": {
      "byteLimit": 2048000,
      "rowLimit": 10000
     },
     "inputWidgets": {},
     "nuid": "76b1e2c0-7f64-4ab5-973b-4fcaa6ddd770",
     "showTitle": false,
     "tableResultSettingsMap": {},
     "title": ""
    }
   },
   "outputs": [
    {
     "output_type": "stream",
     "name": "stdout",
     "output_type": "stream",
     "text": [
      "+----------+--------+------+------+------+------+---+------+----+-----+---------+--------+\n|      Date|  Volume|  Open|  High|   Low| Close|day|Ticker|year|month|highmonth|lowmonth|\n+----------+--------+------+------+------+------+---+------+----+-----+---------+--------+\n|2023-05-31|72800790|121.45|122.04|119.17|120.58| 31|  AMZN|2023|    5|   122.37|  101.47|\n|2023-05-30|64314810|122.37|122.92|119.86|121.66| 30|  AMZN|2023|    5|   122.37|  101.47|\n|2023-05-26|96779890|116.04| 121.5|116.02|120.11| 26|  AMZN|2023|    5|   122.37|  101.47|\n|2023-05-25|66496680|116.63|116.87|114.31| 115.0| 25|  AMZN|2023|    5|   122.37|  101.47|\n|2023-05-24|63487940|115.35|117.34|115.02|116.75| 24|  AMZN|2023|    5|   122.37|  101.47|\n+----------+--------+------+------+------+------+---+------+----+-----+---------+--------+\nonly showing top 5 rows\n"
     ]
    }
   ],
   "source": [
    "historicalAnalysis.show(5)"
   ]
  },
  {
   "cell_type": "markdown",
   "metadata": {
    "application/vnd.databricks.v1+cell": {
     "cellMetadata": {},
     "inputWidgets": {},
     "nuid": "9ef4b379-6101-474f-b72e-16d805e266ad",
     "showTitle": false,
     "tableResultSettingsMap": {},
     "title": ""
    }
   },
   "source": [
    "SQL Queries using spark"
   ]
  },
  {
   "cell_type": "code",
   "execution_count": 0,
   "metadata": {
    "application/vnd.databricks.v1+cell": {
     "cellMetadata": {
      "byteLimit": 2048000,
      "rowLimit": 10000
     },
     "inputWidgets": {},
     "nuid": "c7d0c54d-00e2-4522-a65f-a8d5eed2cfeb",
     "showTitle": false,
     "tableResultSettingsMap": {},
     "title": ""
    }
   },
   "outputs": [],
   "source": [
    "finalstocks=historicalAnalysis.select([\"Ticker\",\"high\",\"low\",\"year\",\"month\",\"open\",\"close\",\"highmonth\",\"lowmonth\",\"Date\"]).createOrReplaceTempView(\"stockData\")"
   ]
  },
  {
   "cell_type": "code",
   "execution_count": 0,
   "metadata": {
    "application/vnd.databricks.v1+cell": {
     "cellMetadata": {
      "byteLimit": 2048000,
      "rowLimit": 10000
     },
     "inputWidgets": {},
     "nuid": "33b631e0-ae8b-47f3-ad37-afa25a5bf52b",
     "showTitle": false,
     "tableResultSettingsMap": {},
     "title": ""
    }
   },
   "outputs": [
    {
     "output_type": "stream",
     "name": "stdout",
     "output_type": "stream",
     "text": [
      "+------+------+------+----+-----+------+------+---------+--------+----------+\n|Ticker|  high|   low|year|month|  open| close|highmonth|lowmonth|      Date|\n+------+------+------+----+-----+------+------+---------+--------+----------+\n|  AAPL|179.35|176.76|2023|    5|177.33|177.25|   177.33|  164.89|2023-05-31|\n|  AAPL|178.99|176.57|2023|    5|176.96| 177.3|   177.33|  164.89|2023-05-30|\n|  AAPL|175.77|173.11|2023|    5|173.32|175.43|   177.33|  164.89|2023-05-26|\n|  AAPL| 173.9|171.69|2023|    5|172.41|172.99|   177.33|  164.89|2023-05-25|\n|  AAPL|172.42|170.52|2023|    5|171.09|171.84|   177.33|  164.89|2023-05-24|\n|  AAPL|173.38|171.28|2023|    5|173.13|171.56|   177.33|  164.89|2023-05-23|\n|  AAPL|174.71|173.45|2023|    5|173.98| 174.2|   177.33|  164.89|2023-05-22|\n|  AAPL|176.39|174.94|2023|    5|176.39|175.16|   177.33|  164.89|2023-05-19|\n|  AAPL|175.24|172.58|2023|    5| 173.0|175.05|   177.33|  164.89|2023-05-18|\n|  AAPL|172.93|170.42|2023|    5|171.71|172.69|   177.33|  164.89|2023-05-17|\n|  AAPL|173.14| 171.8|2023|    5|171.99|172.07|   177.33|  164.89|2023-05-16|\n|  AAPL|173.21|171.47|2023|    5|173.16|172.07|   177.33|  164.89|2023-05-15|\n|  AAPL|174.06| 171.0|2023|    5|173.62|172.57|   177.33|  164.89|2023-05-12|\n|  AAPL|174.59|172.17|2023|    5|173.85|173.75|   177.33|  164.89|2023-05-11|\n|  AAPL|174.03| 171.9|2023|    5|173.02|173.56|   177.33|  164.89|2023-05-10|\n+------+------+------+----+-----+------+------+---------+--------+----------+\nonly showing top 15 rows\n"
     ]
    }
   ],
   "source": [
    "spark.sql(\"select * from stockData where Ticker='AAPL'\").show(15)"
   ]
  },
  {
   "cell_type": "code",
   "execution_count": 0,
   "metadata": {
    "application/vnd.databricks.v1+cell": {
     "cellMetadata": {
      "byteLimit": 2048000,
      "rowLimit": 10000
     },
     "inputWidgets": {},
     "nuid": "d0e6912a-7965-438c-900a-0e4e557f2ea7",
     "showTitle": false,
     "tableResultSettingsMap": {},
     "title": ""
    }
   },
   "outputs": [
    {
     "output_type": "stream",
     "name": "stdout",
     "output_type": "stream",
     "text": [
      "+------+----------+--------+------+------+------+------+----+-----+---+\n|Ticker|      Date|  Volume|  Open|  High|   Low| Close|year|month|day|\n+------+----------+--------+------+------+------+------+----+-----+---+\n|  AMZN|2023-05-31|72800790|121.45|122.04|119.17|120.58|2023|    5| 31|\n|  AMZN|2023-05-30|64314810|122.37|122.92|119.86|121.66|2023|    5| 30|\n|  AMZN|2023-05-26|96779890|116.04| 121.5|116.02|120.11|2023|    5| 26|\n|  AMZN|2023-05-25|66496680|116.63|116.87|114.31| 115.0|2023|    5| 25|\n|  AMZN|2023-05-24|63487940|115.35|117.34|115.02|116.75|2023|    5| 24|\n+------+----------+--------+------+------+------+------+----+-----+---+\nonly showing top 5 rows\n"
     ]
    }
   ],
   "source": [
    "cleaned_stock.show(5)"
   ]
  },
  {
   "cell_type": "code",
   "execution_count": 0,
   "metadata": {
    "application/vnd.databricks.v1+cell": {
     "cellMetadata": {
      "byteLimit": 2048000,
      "rowLimit": 10000
     },
     "inputWidgets": {},
     "nuid": "97d77d26-85a4-47fd-9e2d-983fc358ba9f",
     "showTitle": false,
     "tableResultSettingsMap": {},
     "title": ""
    }
   },
   "outputs": [
    {
     "output_type": "stream",
     "name": "stdout",
     "output_type": "stream",
     "text": [
      "+------+----------+------+\n|Ticker|      Date|  Open|\n+------+----------+------+\n|  AMZN|2023-05-31|121.45|\n|  AMZN|2023-05-30|122.37|\n|  AMZN|2023-05-26|116.04|\n|  AMZN|2023-05-25|116.63|\n|  AMZN|2023-05-24|115.35|\n+------+----------+------+\nonly showing top 5 rows\n"
     ]
    }
   ],
   "source": [
    "snapshot=cleaned_stock.select([\"Ticker\",\"Date\",\"Open\"])\n",
    "snapshot.show(5)"
   ]
  },
  {
   "cell_type": "code",
   "execution_count": 0,
   "metadata": {
    "application/vnd.databricks.v1+cell": {
     "cellMetadata": {
      "byteLimit": 2048000,
      "rowLimit": 10000
     },
     "inputWidgets": {},
     "nuid": "d420f4b2-e494-438e-afcf-e13e9709cfbb",
     "showTitle": true,
     "tableResultSettingsMap": {},
     "title": "Using window function to compare open value of each Tricker to the value of last day"
    }
   },
   "outputs": [
    {
     "output_type": "stream",
     "name": "stdout",
     "output_type": "stream",
     "text": [
      "+------+----------+------+------------+\n|Ticker|      Date|  Open|previousopen|\n+------+----------+------+------------+\n|  AAPL|2023-05-01|169.28|        NULL|\n|  AAPL|2023-05-02|170.09|      169.28|\n|  AAPL|2023-05-03| 169.5|      170.09|\n|  AAPL|2023-05-04|164.89|       169.5|\n|  AAPL|2023-05-05|170.98|      164.89|\n+------+----------+------+------------+\nonly showing top 5 rows\n"
     ]
    }
   ],
   "source": [
    "from pyspark.sql.window import Window\n",
    "lag1day=Window.partitionBy(\"Ticker\").orderBy(\"Date\")\n",
    "snapshot.withColumn(\"previousopen\",func.lag(\"Open\",1).over(lag1day)).show(5)"
   ]
  },
  {
   "cell_type": "code",
   "execution_count": 0,
   "metadata": {
    "application/vnd.databricks.v1+cell": {
     "cellMetadata": {
      "byteLimit": 2048000,
      "rowLimit": 10000
     },
     "inputWidgets": {},
     "nuid": "51d7ecfd-1083-4d6d-9026-1a93066967c2",
     "showTitle": false,
     "tableResultSettingsMap": {},
     "title": ""
    }
   },
   "outputs": [],
   "source": [
    "from pyspark.sql.window import Window\n",
    "from pyspark.sql.functions import col, max\n",
    "\n",
    "maximumstock = Window.partitionBy(\"Ticker\").orderBy(snapshot.Open.desc())"
   ]
  },
  {
   "cell_type": "code",
   "execution_count": 0,
   "metadata": {
    "application/vnd.databricks.v1+cell": {
     "cellMetadata": {
      "byteLimit": 2048000,
      "rowLimit": 10000
     },
     "inputWidgets": {},
     "nuid": "b1c04c43-18c9-48bf-add0-032dd757a39c",
     "showTitle": false,
     "tableResultSettingsMap": {},
     "title": ""
    }
   },
   "outputs": [
    {
     "output_type": "stream",
     "name": "stdout",
     "output_type": "stream",
     "text": [
      "+------+----------+------+-------+\n|Ticker|      Date|  Open|maxopen|\n+------+----------+------+-------+\n|  AAPL|2023-05-31|177.33|      1|\n|  AAPL|2023-05-30|176.96|      2|\n|  AAPL|2023-05-19|176.39|      3|\n|  AAPL|2023-05-22|173.98|      4|\n|  AAPL|2023-05-11|173.85|      5|\n|  AAPL|2023-05-12|173.62|      6|\n|  AAPL|2023-05-26|173.32|      7|\n|  AAPL|2023-05-15|173.16|      8|\n|  AAPL|2023-05-23|173.13|      9|\n|  AAPL|2023-05-09|173.05|     10|\n+------+----------+------+-------+\nonly showing top 10 rows\n"
     ]
    }
   ],
   "source": [
    "snapshot.withColumn(\"maxopen\",func.row_number().over(maximumstock)).show(10)"
   ]
  },
  {
   "cell_type": "code",
   "execution_count": 0,
   "metadata": {
    "application/vnd.databricks.v1+cell": {
     "cellMetadata": {
      "byteLimit": 2048000,
      "rowLimit": 10000
     },
     "inputWidgets": {},
     "nuid": "39d6a67f-ae47-4960-9112-aa8fdd52e6ad",
     "showTitle": true,
     "tableResultSettingsMap": {},
     "title": "calculate top 5 value for each Tricker"
    }
   },
   "outputs": [
    {
     "output_type": "stream",
     "name": "stdout",
     "output_type": "stream",
     "text": [
      "+------+----------+------+-------+\n|Ticker|      Date|  Open|maxopen|\n+------+----------+------+-------+\n|  AAPL|2023-05-31|177.33|      1|\n|  AAPL|2023-05-30|176.96|      2|\n|  AAPL|2023-05-19|176.39|      3|\n|  AAPL|2023-05-22|173.98|      4|\n|  AMZN|2023-05-30|122.37|      1|\n|  AMZN|2023-05-31|121.45|      2|\n|  AMZN|2023-05-19|118.16|      3|\n|  AMZN|2023-05-22|116.77|      4|\n| BRK-B|2023-05-19| 331.0|      1|\n| BRK-B|2023-05-22|330.75|      2|\n+------+----------+------+-------+\nonly showing top 10 rows\n"
     ]
    }
   ],
   "source": [
    "Result=snapshot.withColumn(\"maxopen\",func.row_number().over(maximumstock)).filter(col(\"maxopen\")<5).show(10)"
   ]
  },
  {
   "cell_type": "code",
   "execution_count": 0,
   "metadata": {
    "application/vnd.databricks.v1+cell": {
     "cellMetadata": {
      "byteLimit": 2048000,
      "rowLimit": 10000
     },
     "inputWidgets": {},
     "nuid": "24591a90-100b-4801-89b7-b52c3588ff46",
     "showTitle": true,
     "tableResultSettingsMap": {},
     "title": "Saving as CSV in DBFS"
    }
   },
   "outputs": [],
   "source": [
    "cleaned_stock.write.mode(\"overwrite\").option(\"header\", \"true\").csv(\"/mnt/data/stock_prices\")"
   ]
  }
 ],
 "metadata": {
  "application/vnd.databricks.v1+notebook": {
   "computePreferences": null,
   "dashboards": [],
   "environmentMetadata": {
    "base_environment": "",
    "client": "2"
   },
   "language": "python",
   "notebookMetadata": {
    "pythonIndentUnit": 4
   },
   "notebookName": "Untitled Notebook 2025-01-28 11:51:52",
   "widgets": {}
  },
  "language_info": {
   "name": "python"
  }
 },
 "nbformat": 4,
 "nbformat_minor": 0
}